{
 "cells": [
  {
   "cell_type": "code",
   "execution_count": 129,
   "id": "ab5d681b-b5a1-43b6-9d9b-0153cedd209a",
   "metadata": {},
   "outputs": [],
   "source": [
    "import requests\n",
    "from tqdm import tqdm\n",
    "from bs4 import BeautifulSoup as bs\n",
    "import pandas as pd\n",
    "from selenium import webdriver\n",
    "from selenium.webdriver.common.keys import Keys\n",
    "from selenium.webdriver.common.by import By\n",
    "import time"
   ]
  },
  {
   "cell_type": "code",
   "execution_count": 131,
   "id": "dfcfe508-6869-498d-a6de-a43ef4ff8d58",
   "metadata": {},
   "outputs": [],
   "source": [
    "link='https://1xbet.whoscored.com/Regions/206/Tournaments/4/Seasons/9682/Stages/22176/TeamStatistics/Spain-LaLiga-2023-2024'\n",
    "browser=webdriver.Chrome()\n",
    "browser.get(link)\n",
    "time.sleep(6)"
   ]
  },
  {
   "cell_type": "code",
   "execution_count": 132,
   "id": "6945f3a4-dc59-4af4-abe5-ca99fa52cb47",
   "metadata": {},
   "outputs": [],
   "source": [
    "content=browser.find_element(By.ID, 'layout-wrapper')"
   ]
  },
  {
   "cell_type": "code",
   "execution_count": 135,
   "id": "db91877c-b80c-4318-a59f-7840f7cdf1ea",
   "metadata": {},
   "outputs": [
    {
     "name": "stdout",
     "output_type": "stream",
     "text": [
      "Spain\n",
      "»\n",
      "LaLiga\n",
      "Copa del Rey\n",
      "Supercopa de Espana\n",
      "Segunda División\n",
      "Liga F\n",
      "Primera Division RFEF\n",
      "»\n",
      "2024/2025\n",
      "2023/2024\n",
      "2022/2023\n",
      "2021/2022\n",
      "2020/2021\n",
      "2019/2020\n",
      "2018/2019\n",
      "2017/2018\n",
      "2016/2017\n",
      "2015/2016\n",
      "2014/2015\n",
      "2013/2014\n",
      "2012/2013\n",
      "2011/2012\n",
      "2010/2011\n",
      "2009/2010\n",
      "2008/2009\n",
      "2007/2008\n",
      "2006/2007\n",
      "2005/2006\n",
      "2004/2005\n",
      "2003/2004\n",
      "2002/2003\n",
      "2001/2002\n",
      "2000/2001\n",
      "1999/2000\n",
      "LaLiga\n",
      "Add to favourites\n",
      "SummaryFixturesTeam StatisticsPlayer StatisticsReferee Statistics\n",
      "LaLiga Team Statistics\n",
      "Summary\n",
      "Defensive\n",
      "Offensive\n",
      "xG\n",
      "Detailed\n",
      "Overall\n",
      "Home\n",
      "Away\n",
      "Team\n",
      "Goals Shots pg Discipline Possession% Pass% AerialsWon Rating\n",
      "1. Real Madrid 87 15.7 674 59.3 90.1 8.9 6.93\n",
      "2. Barcelona 79 15.7 852 64.7 88.6 12 6.82\n",
      "3. Girona 85 12.7 751 57.1 87.9 10.1 6.75\n",
      "4. Atletico Madrid 70 12.7 825 50.8 84.6 11.4 6.70\n",
      "5. Athletic Club 61 12.2 755 49.4 79.6 14.4 6.67\n",
      "6. Real Betis 48 12.9 853 50.1 83.0 12.9 6.65\n",
      "7. Real Sociedad 51 12.1 982 55.5 82.0 20.3 6.64\n",
      "8. Sevilla 48 12.9 1084 50.0 81.5 16.3 6.62\n",
      "9. Villarreal 65 12.3 1028 49.3 84.2 12.7 6.62\n",
      "10. Celta Vigo 46 12.4 625 45.8 80.2 14.1 6.56\n",
      "11. Mallorca 33 11 1014 44.5 75.7 20.8 6.55\n",
      "12. Valencia 40 9.9 605 43.6 77.0 13 6.55\n",
      "13. Deportivo Alaves 36 12.2 841 40.7 73.9 15.4 6.53\n",
      "14. Osasuna 45 11.2 765 47.3 77.0 20.2 6.51\n",
      "15. Getafe 42 11.9 12610 44.4 72.6 17.8 6.51\n",
      "16. Las Palmas 33 10.3 805 59.7 85.4 10.8 6.51\n",
      "17. Rayo Vallecano 29 13 1015 49.4 78.2 13.7 6.47\n",
      "18. Almeria 43 12.6 856 46.0 79.4 15 6.47\n",
      "19. Cadiz 26 10.5 1077 42.7 74.3 16.9 6.44\n",
      "20. Granada 38 10.6 964 45.0 77.6 12.9 6.39\n",
      "LaLiga Situational Statistics\n",
      "Goal Types\n",
      "Pass Types\n",
      "Card Situations\n",
      "View:\n",
      "Overall\n",
      "Home\n",
      "Away\n",
      "View:\n",
      "For\n",
      "Against\n",
      "R Team Open Play Counter Attack Set Piece Penalty Own Goal\n",
      "1 Real Madrid 65 8 10 2 2\n",
      "2 Girona 64 2 11 7 1\n",
      "3 Barcelona 57 2 11 6 3\n",
      "4 Atletico Madrid 52 6 5 5 2\n",
      "5 Athletic Club 44 3 9 3 2\n",
      "6 Villarreal 41 6 12 5 1\n",
      "7 Real Betis 32 3 9 2 2\n",
      "8 Almeria 31 5 4 2 1\n",
      "9 Valencia 28 2 1 8 1\n",
      "10 Real Sociedad 28 4 12 4 3\n",
      "11 Getafe 28 1 7 6 0\n",
      "12 Celta Vigo 28 7 7 3 1\n",
      "13 Osasuna 26 1 14 4 0\n",
      "14 Sevilla 26 5 13 2 2\n",
      "15 Las Palmas 22 2 6 3 0\n",
      "16 Granada 21 3 6 5 3\n",
      "17 Mallorca 17 0 15 1 0\n",
      "18 Deportivo Alaves 17 5 8 3 3\n",
      "19 Cadiz 15 0 7 3 1\n",
      "20 Rayo Vallecano 14 1 8 6 0\n",
      "LaLiga Positional Statistics\n",
      "Attack Sides\n",
      "Shot Directions\n",
      "Shot Zones\n",
      "Action Zones\n",
      "View:\n",
      "Overall\n",
      "Home\n",
      "Away\n",
      "R Team Left Side Middle of the pitch Right Side\n",
      "1 Las Palmas 43% 25% 33%\n",
      "2 Real Betis 42% 21% 37%\n",
      "3 Real Madrid 40% 25% 35%\n",
      "4 Real Sociedad 40% 24% 36%\n",
      "5 Rayo Vallecano 39% 23% 38%\n",
      "6 Getafe 39% 27% 34%\n",
      "7 Deportivo Alaves 38% 24% 38%\n",
      "8 Osasuna 38% 24% 38%\n",
      "9 Cadiz 38% 26% 36%\n",
      "10 Sevilla 37% 23% 41%\n",
      "11 Mallorca 36% 27% 37%\n",
      "12 Valencia 36% 22% 42%\n",
      "13 Atletico Madrid 36% 25% 39%\n",
      "14 Celta Vigo 36% 25% 40%\n",
      "15 Granada 36% 26% 38%\n",
      "16 Athletic Club 35% 25% 41%\n",
      "17 Barcelona 35% 29% 36%\n",
      "18 Almeria 35% 25% 40%\n",
      "19 Girona 34% 25% 41%\n",
      "20 Villarreal 32% 28% 40%\n"
     ]
    }
   ],
   "source": [
    "print(content.text)"
   ]
  },
  {
   "cell_type": "code",
   "execution_count": 137,
   "id": "7f7849d3-5a5c-45b1-b12d-f37e90104943",
   "metadata": {},
   "outputs": [],
   "source": [
    "table_summary=content.find_element(By.ID, 'statistics-team-table-summary')"
   ]
  },
  {
   "cell_type": "code",
   "execution_count": 139,
   "id": "175fe004-fb24-4472-a320-800a8589f580",
   "metadata": {},
   "outputs": [
    {
     "name": "stdout",
     "output_type": "stream",
     "text": [
      "Team\n",
      "Goals Shots pg Discipline Possession% Pass% AerialsWon Rating\n",
      "1. Real Madrid 87 15.7 674 59.3 90.1 8.9 6.93\n",
      "2. Barcelona 79 15.7 852 64.7 88.6 12 6.82\n",
      "3. Girona 85 12.7 751 57.1 87.9 10.1 6.75\n",
      "4. Atletico Madrid 70 12.7 825 50.8 84.6 11.4 6.70\n",
      "5. Athletic Club 61 12.2 755 49.4 79.6 14.4 6.67\n",
      "6. Real Betis 48 12.9 853 50.1 83.0 12.9 6.65\n",
      "7. Real Sociedad 51 12.1 982 55.5 82.0 20.3 6.64\n",
      "8. Sevilla 48 12.9 1084 50.0 81.5 16.3 6.62\n",
      "9. Villarreal 65 12.3 1028 49.3 84.2 12.7 6.62\n",
      "10. Celta Vigo 46 12.4 625 45.8 80.2 14.1 6.56\n",
      "11. Mallorca 33 11 1014 44.5 75.7 20.8 6.55\n",
      "12. Valencia 40 9.9 605 43.6 77.0 13 6.55\n",
      "13. Deportivo Alaves 36 12.2 841 40.7 73.9 15.4 6.53\n",
      "14. Osasuna 45 11.2 765 47.3 77.0 20.2 6.51\n",
      "15. Getafe 42 11.9 12610 44.4 72.6 17.8 6.51\n",
      "16. Las Palmas 33 10.3 805 59.7 85.4 10.8 6.51\n",
      "17. Rayo Vallecano 29 13 1015 49.4 78.2 13.7 6.47\n",
      "18. Almeria 43 12.6 856 46.0 79.4 15 6.47\n",
      "19. Cadiz 26 10.5 1077 42.7 74.3 16.9 6.44\n",
      "20. Granada 38 10.6 964 45.0 77.6 12.9 6.39\n"
     ]
    }
   ],
   "source": [
    "print(table_summary.text)"
   ]
  },
  {
   "cell_type": "code",
   "execution_count": 141,
   "id": "38534bf4-0b65-46fe-ba21-ee33cf98fd53",
   "metadata": {},
   "outputs": [],
   "source": [
    "attr=table_summary.find_elements(By.TAG_NAME,'th')"
   ]
  },
  {
   "cell_type": "code",
   "execution_count": 143,
   "id": "b02fccaf-546e-495d-a72c-ab022c6f4f84",
   "metadata": {},
   "outputs": [],
   "source": [
    "col_names=[]\n",
    "for i in attr:\n",
    "    col_names.append(i.text)"
   ]
  },
  {
   "cell_type": "code",
   "execution_count": 145,
   "id": "aa1ab930-9ea2-4e4f-8e60-1ebd9f7fad39",
   "metadata": {},
   "outputs": [
    {
     "data": {
      "text/plain": [
       "['Team',\n",
       " 'Goals',\n",
       " 'Shots pg',\n",
       " 'Discipline',\n",
       " 'Possession%',\n",
       " 'Pass%',\n",
       " 'AerialsWon',\n",
       " 'Rating']"
      ]
     },
     "execution_count": 145,
     "metadata": {},
     "output_type": "execute_result"
    }
   ],
   "source": [
    "col_names"
   ]
  },
  {
   "cell_type": "code",
   "execution_count": 147,
   "id": "acd5963d-455a-4a40-846b-2fe7c98a454f",
   "metadata": {},
   "outputs": [],
   "source": [
    "rows=table_summary.find_elements(By.TAG_NAME,'tr')"
   ]
  },
  {
   "cell_type": "code",
   "execution_count": 149,
   "id": "6cc201e6-4aaf-4193-a49e-bb3b24d7c525",
   "metadata": {},
   "outputs": [
    {
     "data": {
      "text/plain": [
       "21"
      ]
     },
     "execution_count": 149,
     "metadata": {},
     "output_type": "execute_result"
    }
   ],
   "source": [
    "len(rows)"
   ]
  },
  {
   "cell_type": "code",
   "execution_count": 151,
   "id": "6256448d-6f7c-46d7-8cbd-e7c0056b97b8",
   "metadata": {},
   "outputs": [
    {
     "name": "stdout",
     "output_type": "stream",
     "text": [
      "1. Real Madrid 87 15.7 674 59.3 90.1 8.9 6.93\n"
     ]
    }
   ],
   "source": [
    "print(rows[1].text)"
   ]
  },
  {
   "cell_type": "code",
   "execution_count": 153,
   "id": "3ac68e25-1512-460c-983c-aa6ef723d3f6",
   "metadata": {},
   "outputs": [],
   "source": [
    "row_cells=rows[1].find_elements(By.TAG_NAME,'td')"
   ]
  },
  {
   "cell_type": "code",
   "execution_count": 155,
   "id": "2f5dc4e6-1237-4d7f-831a-9e9012a9f700",
   "metadata": {},
   "outputs": [
    {
     "name": "stdout",
     "output_type": "stream",
     "text": [
      "1. Real Madrid\n",
      "87\n",
      "15.7\n",
      "674\n",
      "59.3\n",
      "90.1\n",
      "8.9\n",
      "6.93\n"
     ]
    }
   ],
   "source": [
    "for cell in row_cells:\n",
    "    print(cell.text)"
   ]
  },
  {
   "cell_type": "code",
   "execution_count": 175,
   "id": "82490c04-330b-4b5d-ac77-1f9dd46dad83",
   "metadata": {},
   "outputs": [],
   "source": [
    "Yellow_card=[]\n",
    "Red_card=[]\n",
    "Standings=[]\n",
    "for j in range(1,21):\n",
    "    row_cells=rows[j].find_elements(By.TAG_NAME,'td')\n",
    "    \n",
    "    cards=row_cells[3].find_elements(By.TAG_NAME,'span')\n",
    "    Yellow_card.append(cards[0].text)\n",
    "    Red_card.append(cards[1].text)\n",
    "    \n",
    "    Standings.append([row_cells[0].text,row_cells[1].text,row_cells[2].text,Yellow_card[j-1],Red_card[j-1],row_cells[4].text,row_cells[5].text,row_cells[6].text,row_cells[7].text])"
   ]
  },
  {
   "cell_type": "code",
   "execution_count": 177,
   "id": "187d3435-81e0-4c08-846a-1cd8d8d3b29d",
   "metadata": {},
   "outputs": [
    {
     "name": "stdout",
     "output_type": "stream",
     "text": [
      "['1. Real Madrid', '87', '15.7', '67', '4', '59.3', '90.1', '8.9', '6.93']\n",
      "['2. Barcelona', '79', '15.7', '85', '2', '64.7', '88.6', '12', '6.82']\n",
      "['3. Girona', '85', '12.7', '75', '1', '57.1', '87.9', '10.1', '6.75']\n",
      "['4. Atletico Madrid', '70', '12.7', '82', '5', '50.8', '84.6', '11.4', '6.70']\n",
      "['5. Athletic Club', '61', '12.2', '75', '5', '49.4', '79.6', '14.4', '6.67']\n",
      "['6. Real Betis', '48', '12.9', '85', '3', '50.1', '83.0', '12.9', '6.65']\n",
      "['7. Real Sociedad', '51', '12.1', '98', '2', '55.5', '82.0', '20.3', '6.64']\n",
      "['8. Sevilla', '48', '12.9', '108', '4', '50.0', '81.5', '16.3', '6.62']\n",
      "['9. Villarreal', '65', '12.3', '102', '8', '49.3', '84.2', '12.7', '6.62']\n",
      "['10. Celta Vigo', '46', '12.4', '62', '5', '45.8', '80.2', '14.1', '6.56']\n",
      "['11. Mallorca', '33', '11', '101', '4', '44.5', '75.7', '20.8', '6.55']\n",
      "['12. Valencia', '40', '9.9', '60', '5', '43.6', '77.0', '13', '6.55']\n",
      "['13. Deportivo Alaves', '36', '12.2', '84', '1', '40.7', '73.9', '15.4', '6.53']\n",
      "['14. Osasuna', '45', '11.2', '76', '5', '47.3', '77.0', '20.2', '6.51']\n",
      "['15. Getafe', '42', '11.9', '126', '10', '44.4', '72.6', '17.8', '6.51']\n",
      "['16. Las Palmas', '33', '10.3', '80', '5', '59.7', '85.4', '10.8', '6.51']\n",
      "['17. Rayo Vallecano', '29', '13', '101', '5', '49.4', '78.2', '13.7', '6.47']\n",
      "['18. Almeria', '43', '12.6', '85', '6', '46.0', '79.4', '15', '6.47']\n",
      "['19. Cadiz', '26', '10.5', '107', '7', '42.7', '74.3', '16.9', '6.44']\n",
      "['20. Granada', '38', '10.6', '96', '4', '45.0', '77.6', '12.9', '6.39']\n"
     ]
    }
   ],
   "source": [
    "for i in range (0,20):\n",
    "    print(Standings[i])"
   ]
  },
  {
   "cell_type": "code",
   "execution_count": 179,
   "id": "df98904c-e1a7-46e4-91fa-7d6f4c629d33",
   "metadata": {},
   "outputs": [],
   "source": [
    "df=pd.DataFrame(Standings,columns=['Teams','Goals','Shots','Yellow Cards','Red Crads','Possesion','Pass','Aerials Won','Rating'])"
   ]
  },
  {
   "cell_type": "code",
   "execution_count": 181,
   "id": "5f561672-a6a4-46d0-b949-2bf6246de59e",
   "metadata": {},
   "outputs": [
    {
     "data": {
      "text/html": [
       "<div>\n",
       "<style scoped>\n",
       "    .dataframe tbody tr th:only-of-type {\n",
       "        vertical-align: middle;\n",
       "    }\n",
       "\n",
       "    .dataframe tbody tr th {\n",
       "        vertical-align: top;\n",
       "    }\n",
       "\n",
       "    .dataframe thead th {\n",
       "        text-align: right;\n",
       "    }\n",
       "</style>\n",
       "<table border=\"1\" class=\"dataframe\">\n",
       "  <thead>\n",
       "    <tr style=\"text-align: right;\">\n",
       "      <th></th>\n",
       "      <th>Teams</th>\n",
       "      <th>Goals</th>\n",
       "      <th>Shots</th>\n",
       "      <th>Yellow Cards</th>\n",
       "      <th>Red Crads</th>\n",
       "      <th>Possesion</th>\n",
       "      <th>Pass</th>\n",
       "      <th>Aerials Won</th>\n",
       "      <th>Rating</th>\n",
       "    </tr>\n",
       "  </thead>\n",
       "  <tbody>\n",
       "    <tr>\n",
       "      <th>0</th>\n",
       "      <td>1. Real Madrid</td>\n",
       "      <td>87</td>\n",
       "      <td>15.7</td>\n",
       "      <td>67</td>\n",
       "      <td>4</td>\n",
       "      <td>59.3</td>\n",
       "      <td>90.1</td>\n",
       "      <td>8.9</td>\n",
       "      <td>6.93</td>\n",
       "    </tr>\n",
       "    <tr>\n",
       "      <th>1</th>\n",
       "      <td>2. Barcelona</td>\n",
       "      <td>79</td>\n",
       "      <td>15.7</td>\n",
       "      <td>85</td>\n",
       "      <td>2</td>\n",
       "      <td>64.7</td>\n",
       "      <td>88.6</td>\n",
       "      <td>12</td>\n",
       "      <td>6.82</td>\n",
       "    </tr>\n",
       "    <tr>\n",
       "      <th>2</th>\n",
       "      <td>3. Girona</td>\n",
       "      <td>85</td>\n",
       "      <td>12.7</td>\n",
       "      <td>75</td>\n",
       "      <td>1</td>\n",
       "      <td>57.1</td>\n",
       "      <td>87.9</td>\n",
       "      <td>10.1</td>\n",
       "      <td>6.75</td>\n",
       "    </tr>\n",
       "  </tbody>\n",
       "</table>\n",
       "</div>"
      ],
      "text/plain": [
       "            Teams Goals Shots Yellow Cards Red Crads Possesion  Pass  \\\n",
       "0  1. Real Madrid    87  15.7           67         4      59.3  90.1   \n",
       "1    2. Barcelona    79  15.7           85         2      64.7  88.6   \n",
       "2       3. Girona    85  12.7           75         1      57.1  87.9   \n",
       "\n",
       "  Aerials Won Rating  \n",
       "0         8.9   6.93  \n",
       "1          12   6.82  \n",
       "2        10.1   6.75  "
      ]
     },
     "execution_count": 181,
     "metadata": {},
     "output_type": "execute_result"
    }
   ],
   "source": [
    "df.head(3)"
   ]
  },
  {
   "cell_type": "code",
   "execution_count": 183,
   "id": "ea3927d5-e416-4958-8166-a910526c30cd",
   "metadata": {},
   "outputs": [],
   "source": [
    "df.to_csv('LaLiga2023-24/Standings.csv',index=False)"
   ]
  },
  {
   "cell_type": "code",
   "execution_count": 189,
   "id": "ecf85efc-022a-41b5-adcc-acc66d557d47",
   "metadata": {},
   "outputs": [],
   "source": [
    "defensive_table=content.find_element(By.ID,'statistics-team-table-defensive')"
   ]
  },
  {
   "cell_type": "code",
   "execution_count": 191,
   "id": "bea525fb-b4de-48ee-9141-896fa2b04b54",
   "metadata": {},
   "outputs": [],
   "source": [
    "def_attr=defensive_table.find_elements(By.TAG_NAME,'th')"
   ]
  },
  {
   "cell_type": "code",
   "execution_count": 193,
   "id": "af2d11f4-c27e-4938-8e7f-5150ada77a02",
   "metadata": {},
   "outputs": [
    {
     "data": {
      "text/plain": [
       "7"
      ]
     },
     "execution_count": 193,
     "metadata": {},
     "output_type": "execute_result"
    }
   ],
   "source": [
    "len(def_attr)"
   ]
  },
  {
   "cell_type": "code",
   "execution_count": 195,
   "id": "c5a0e16e-0ecd-4505-800b-2c290fc2242e",
   "metadata": {},
   "outputs": [],
   "source": [
    "def_rows=defensive_table.find_elements(By.TAG_NAME,'tr')"
   ]
  },
  {
   "cell_type": "code",
   "execution_count": 197,
   "id": "9d04d997-b4bc-4a32-8d8b-14430227bc09",
   "metadata": {},
   "outputs": [
    {
     "data": {
      "text/plain": [
       "21"
      ]
     },
     "execution_count": 197,
     "metadata": {},
     "output_type": "execute_result"
    }
   ],
   "source": [
    "len(def_rows)"
   ]
  },
  {
   "cell_type": "code",
   "execution_count": 199,
   "id": "d4341e19-a349-4284-8ffa-0973e51f20af",
   "metadata": {},
   "outputs": [],
   "source": [
    "cols=['Teams','Shots_pg','Tackles_pg','Interceptions_pg','Fouls_pg','Offsides_pg']\n",
    "\n",
    "Def_Data=[]\n",
    "for j in range(1,21):\n",
    "    row_cells=def_rows[j].find_elements(By.TAG_NAME,'td')\n",
    "    Def_Data.append([row_cells[0].text,row_cells[1].text,row_cells[2].text,row_cells[3].text,row_cells[4].text,row_cells[5].text])"
   ]
  },
  {
   "cell_type": "code",
   "execution_count": 201,
   "id": "fa39397d-51e1-4bb8-b4c7-368de9859bad",
   "metadata": {},
   "outputs": [
    {
     "name": "stdout",
     "output_type": "stream",
     "text": [
      "['1. Sevilla', '13.2', '18.3', '8.2', '12.6', '2']\n",
      "['2. Real Betis', '11.8', '18.2', '9.1', '11.3', '1.9']\n",
      "['3. Mallorca', '12.6', '18.1', '9.6', '14.9', '2.7']\n",
      "['4. Cadiz', '13.4', '17.7', '7.8', '15.2', '2.4']\n",
      "['5. Las Palmas', '11.6', '17.4', '7.4', '10.8', '2.4']\n",
      "['6. Valencia', '10.9', '17.3', '8.5', '12.7', '1.8']\n",
      "['7. Atletico Madrid', '11.9', '17.2', '6.7', '11.5', '3.2']\n",
      "['8. Real Sociedad', '10.4', '17.1', '6.7', '15.9', '2.4']\n",
      "['9. Granada', '13', '16.8', '7.4', '13.5', '2']\n",
      "['10. Almeria', '15.6', '16.7', '8.2', '12.6', '2']\n",
      "['11. Rayo Vallecano', '11.7', '16.6', '8.1', '14.8', '2.5']\n",
      "['12. Celta Vigo', '12.6', '16.5', '7.8', '12.2', '1.7']\n",
      "['13. Getafe', '12', '16', '8.1', '17.1', '2.1']\n",
      "['14. Athletic Club', '10.8', '15.3', '7.3', '13.4', '2.1']\n",
      "['15. Deportivo Alaves', '11.9', '15.2', '7.3', '12.7', '1.8']\n",
      "['16. Villarreal', '15.4', '15.2', '8', '12.8', '2.4']\n",
      "['17. Barcelona', '10.9', '15', '6.8', '10.8', '2.6']\n",
      "['18. Real Madrid', '10.3', '14.7', '7.8', '9.7', '2.1']\n",
      "['19. Girona', '13.4', '14.3', '6.8', '10.7', '2.5']\n",
      "['20. Osasuna', '11.5', '13.8', '6.9', '13.6', '1.8']\n"
     ]
    }
   ],
   "source": [
    "for i in range(0,20):\n",
    "    print(Def_Data[i])"
   ]
  },
  {
   "cell_type": "code",
   "execution_count": 205,
   "id": "9ddd2823-67c6-4e87-ad8a-c55256382d84",
   "metadata": {},
   "outputs": [
    {
     "data": {
      "text/html": [
       "<div>\n",
       "<style scoped>\n",
       "    .dataframe tbody tr th:only-of-type {\n",
       "        vertical-align: middle;\n",
       "    }\n",
       "\n",
       "    .dataframe tbody tr th {\n",
       "        vertical-align: top;\n",
       "    }\n",
       "\n",
       "    .dataframe thead th {\n",
       "        text-align: right;\n",
       "    }\n",
       "</style>\n",
       "<table border=\"1\" class=\"dataframe\">\n",
       "  <thead>\n",
       "    <tr style=\"text-align: right;\">\n",
       "      <th></th>\n",
       "      <th>Teams</th>\n",
       "      <th>Shots_pg</th>\n",
       "      <th>Tackles_pg</th>\n",
       "      <th>Interceptions_pg</th>\n",
       "      <th>Fouls_pg</th>\n",
       "      <th>Offsides_pg</th>\n",
       "    </tr>\n",
       "  </thead>\n",
       "  <tbody>\n",
       "    <tr>\n",
       "      <th>0</th>\n",
       "      <td>1. Sevilla</td>\n",
       "      <td>13.2</td>\n",
       "      <td>18.3</td>\n",
       "      <td>8.2</td>\n",
       "      <td>12.6</td>\n",
       "      <td>2</td>\n",
       "    </tr>\n",
       "    <tr>\n",
       "      <th>1</th>\n",
       "      <td>2. Real Betis</td>\n",
       "      <td>11.8</td>\n",
       "      <td>18.2</td>\n",
       "      <td>9.1</td>\n",
       "      <td>11.3</td>\n",
       "      <td>1.9</td>\n",
       "    </tr>\n",
       "    <tr>\n",
       "      <th>2</th>\n",
       "      <td>3. Mallorca</td>\n",
       "      <td>12.6</td>\n",
       "      <td>18.1</td>\n",
       "      <td>9.6</td>\n",
       "      <td>14.9</td>\n",
       "      <td>2.7</td>\n",
       "    </tr>\n",
       "  </tbody>\n",
       "</table>\n",
       "</div>"
      ],
      "text/plain": [
       "           Teams Shots_pg Tackles_pg Interceptions_pg Fouls_pg Offsides_pg\n",
       "0     1. Sevilla     13.2       18.3              8.2     12.6           2\n",
       "1  2. Real Betis     11.8       18.2              9.1     11.3         1.9\n",
       "2    3. Mallorca     12.6       18.1              9.6     14.9         2.7"
      ]
     },
     "execution_count": 205,
     "metadata": {},
     "output_type": "execute_result"
    }
   ],
   "source": [
    "df2=pd.DataFrame(Def_Data,columns=cols)\n",
    "df2.head(3)"
   ]
  },
  {
   "cell_type": "code",
   "execution_count": 207,
   "id": "82fe9a0c-42f2-4e14-92a5-bbb10706c578",
   "metadata": {},
   "outputs": [],
   "source": [
    "df2.to_csv('LaLiga2023-24/Defensive_Summary.csv',index=False)"
   ]
  },
  {
   "cell_type": "code",
   "execution_count": 209,
   "id": "1decb27f-ab5b-4093-8ae5-6e6d6e927801",
   "metadata": {},
   "outputs": [],
   "source": [
    "offensive_table=content.find_element(By.ID,'statistics-team-table-offensive')"
   ]
  },
  {
   "cell_type": "code",
   "execution_count": 211,
   "id": "13cea27c-c598-43d4-b6a6-da94156c6378",
   "metadata": {},
   "outputs": [],
   "source": [
    "offe_attr=offensive_table.find_elements(By.TAG_NAME,'th')"
   ]
  },
  {
   "cell_type": "code",
   "execution_count": 213,
   "id": "0e26a7d9-ffa3-469a-81a5-e5df2cf676a7",
   "metadata": {},
   "outputs": [
    {
     "data": {
      "text/plain": [
       "6"
      ]
     },
     "execution_count": 213,
     "metadata": {},
     "output_type": "execute_result"
    }
   ],
   "source": [
    "len(offe_attr)"
   ]
  },
  {
   "cell_type": "code",
   "execution_count": 217,
   "id": "74b0c08d-842b-41d5-b54d-061ec79fb3b9",
   "metadata": {},
   "outputs": [],
   "source": [
    "offe_rows=offensive_table.find_elements(By.TAG_NAME,'tr')\n",
    "\n",
    "cols=['Teams','Shots_pg','Shots_ot_pg','Dribbles_pg','Fouled_pg']\n",
    "\n",
    "Offe_Data=[]\n",
    "\n",
    "for j in range(1,21):\n",
    "    row_cells=offe_rows[j].find_elements(By.TAG_NAME,'td')\n",
    "    Offe_Data.append([row_cells[0].text,row_cells[1].text,row_cells[2].text,row_cells[3].text,row_cells[4].text])"
   ]
  },
  {
   "cell_type": "code",
   "execution_count": 219,
   "id": "cd360ee8-8a9f-46f4-9fa2-01ee9d2c8157",
   "metadata": {},
   "outputs": [
    {
     "name": "stdout",
     "output_type": "stream",
     "text": [
      "['1. Real Madrid', '15.7', '6.6', '10.6', '13.8']\n",
      "['2. Barcelona', '15.7', '6.1', '10.1', '12.3']\n",
      "['3. Rayo Vallecano', '13', '4.4', '7.4', '13.6']\n",
      "['4. Real Betis', '12.9', '4.1', '10.2', '13.1']\n",
      "['5. Sevilla', '12.9', '4.3', '7.7', '11.7']\n",
      "['6. Girona', '12.7', '5.1', '9.3', '12.4']\n",
      "['7. Atletico Madrid', '12.7', '5.4', '7.8', '11.8']\n",
      "['8. Almeria', '12.6', '4.4', '7.9', '13']\n",
      "['9. Celta Vigo', '12.4', '4.2', '7.8', '12.8']\n",
      "['10. Villarreal', '12.3', '4.5', '9.2', '12.2']\n",
      "['11. Deportivo Alaves', '12.2', '3.9', '8.2', '11.8']\n",
      "['12. Athletic Club', '12.2', '4.5', '8.9', '11.3']\n",
      "['13. Real Sociedad', '12.1', '4.1', '8.4', '11.6']\n",
      "['14. Getafe', '11.9', '4.2', '6.3', '11.5']\n",
      "['15. Osasuna', '11.2', '3.4', '6.2', '10.3']\n",
      "['16. Mallorca', '11', '3.6', '6.6', '10.8']\n",
      "['17. Granada', '10.6', '3.4', '8', '13.3']\n",
      "['18. Cadiz', '10.5', '3.2', '6.1', '13.1']\n",
      "['19. Las Palmas', '10.3', '3.3', '8.3', '13.1']\n",
      "['20. Valencia', '9.9', '3.5', '7.3', '12.5']\n"
     ]
    }
   ],
   "source": [
    "for i in range(0,20):\n",
    "    print(Offe_Data[i])"
   ]
  },
  {
   "cell_type": "code",
   "execution_count": 225,
   "id": "aeb35313-9069-4460-88e5-c0af1448f834",
   "metadata": {},
   "outputs": [
    {
     "data": {
      "text/html": [
       "<div>\n",
       "<style scoped>\n",
       "    .dataframe tbody tr th:only-of-type {\n",
       "        vertical-align: middle;\n",
       "    }\n",
       "\n",
       "    .dataframe tbody tr th {\n",
       "        vertical-align: top;\n",
       "    }\n",
       "\n",
       "    .dataframe thead th {\n",
       "        text-align: right;\n",
       "    }\n",
       "</style>\n",
       "<table border=\"1\" class=\"dataframe\">\n",
       "  <thead>\n",
       "    <tr style=\"text-align: right;\">\n",
       "      <th></th>\n",
       "      <th>Teams</th>\n",
       "      <th>Shots_pg</th>\n",
       "      <th>Shots_ot_pg</th>\n",
       "      <th>Dribbles_pg</th>\n",
       "      <th>Fouled_pg</th>\n",
       "    </tr>\n",
       "  </thead>\n",
       "  <tbody>\n",
       "    <tr>\n",
       "      <th>0</th>\n",
       "      <td>1. Real Madrid</td>\n",
       "      <td>15.7</td>\n",
       "      <td>6.6</td>\n",
       "      <td>10.6</td>\n",
       "      <td>13.8</td>\n",
       "    </tr>\n",
       "    <tr>\n",
       "      <th>1</th>\n",
       "      <td>2. Barcelona</td>\n",
       "      <td>15.7</td>\n",
       "      <td>6.1</td>\n",
       "      <td>10.1</td>\n",
       "      <td>12.3</td>\n",
       "    </tr>\n",
       "    <tr>\n",
       "      <th>2</th>\n",
       "      <td>3. Rayo Vallecano</td>\n",
       "      <td>13</td>\n",
       "      <td>4.4</td>\n",
       "      <td>7.4</td>\n",
       "      <td>13.6</td>\n",
       "    </tr>\n",
       "  </tbody>\n",
       "</table>\n",
       "</div>"
      ],
      "text/plain": [
       "               Teams Shots_pg Shots_ot_pg Dribbles_pg Fouled_pg\n",
       "0     1. Real Madrid     15.7         6.6        10.6      13.8\n",
       "1       2. Barcelona     15.7         6.1        10.1      12.3\n",
       "2  3. Rayo Vallecano       13         4.4         7.4      13.6"
      ]
     },
     "execution_count": 225,
     "metadata": {},
     "output_type": "execute_result"
    }
   ],
   "source": [
    "df3=pd.DataFrame(Offe_Data,columns=cols)\n",
    "df3.head(3)"
   ]
  },
  {
   "cell_type": "code",
   "execution_count": 229,
   "id": "b75c8e8e-cae3-4716-a5df-4319d6a9067a",
   "metadata": {},
   "outputs": [],
   "source": [
    "df3.to_csv('LaLiga2023-24/Offensive_Summary.csv',index=False)"
   ]
  },
  {
   "cell_type": "code",
   "execution_count": 253,
   "id": "d34cd870-2101-4c26-9530-5789fc84ba7c",
   "metadata": {},
   "outputs": [],
   "source": [
    "xg_table=content.find_element(By.ID,'statistics-team-table-xg')"
   ]
  },
  {
   "cell_type": "code",
   "execution_count": 255,
   "id": "fe1e24e5-4019-4b91-80b6-6c6b49b5413d",
   "metadata": {},
   "outputs": [],
   "source": [
    "xg_attr=xg_table.find_elements(By.TAG_NAME,'th')"
   ]
  },
  {
   "cell_type": "code",
   "execution_count": 257,
   "id": "bae5c375-74c2-4589-8927-1898aa3b9fa1",
   "metadata": {},
   "outputs": [
    {
     "data": {
      "text/plain": [
       "7"
      ]
     },
     "execution_count": 257,
     "metadata": {},
     "output_type": "execute_result"
    }
   ],
   "source": [
    "len(xg_attr)"
   ]
  },
  {
   "cell_type": "code",
   "execution_count": 259,
   "id": "39ecc609-d44c-4d58-bb8c-8324ada28bd0",
   "metadata": {},
   "outputs": [],
   "source": [
    "xg_rows=xg_table.find_elements(By.TAG_NAME,'tr')"
   ]
  },
  {
   "cell_type": "code",
   "execution_count": 263,
   "id": "28462614-24f9-4f34-8e2e-4f383fe48051",
   "metadata": {},
   "outputs": [],
   "source": [
    "cols=['Teams','xG','Goals','xG_Diff','Shots','xG_shots']\n",
    "For_xg=[]\n",
    "for j in range(1,21):\n",
    "    row_cells=xg_rows[j].find_elements(By.TAG_NAME,'td')\n",
    "    For_xg.append([row_cells[0].text,row_cells[1].text,row_cells[2].text,row_cells[3].text,row_cells[4].text,row_cells[5].text])"
   ]
  },
  {
   "cell_type": "code",
   "execution_count": 265,
   "id": "6f96347c-68f8-4395-ad14-8cd644633fa8",
   "metadata": {},
   "outputs": [
    {
     "name": "stdout",
     "output_type": "stream",
     "text": [
      "['1. Almeria', '69.71', '75', '5.29', '593', '0.12']\n",
      "['2. Granada', '68.55', '77', '8.45', '494', '0.14']\n",
      "['3. Villarreal', '64.4', '64', '-0.4', '586', '0.11']\n",
      "['4. Sevilla', '63.98', '52', '-11.98', '501', '0.13']\n",
      "['5. Girona', '63.31', '46', '-17.31', '510', '0.12']\n",
      "['6. Las Palmas', '62.15', '44', '-18.15', '442', '0.14']\n",
      "['7. Celta Vigo', '59.6', '54', '-5.6', '478', '0.12']\n",
      "['8. Getafe', '57.51', '54', '-3.51', '455', '0.13']\n",
      "['9. Osasuna', '56.02', '56', '-0.02', '438', '0.13']\n",
      "['10. Cadiz', '55.81', '54', '-1.81', '510', '0.11']\n",
      "['11. Real Betis', '51.4', '42', '-9.4', '449', '0.11']\n",
      "['12. Valencia', '50.97', '43', '-7.97', '413', '0.12']\n",
      "['13. Deportivo Alaves', '50.73', '44', '-6.73', '452', '0.11']\n",
      "['14. Rayo Vallecano', '47.54', '46', '-1.54', '443', '0.11']\n",
      "['15. Real Sociedad', '47.25', '38', '-9.25', '395', '0.12']\n",
      "['16. Mallorca', '46.69', '43', '-3.69', '479', '0.1']\n",
      "['17. Barcelona', '45.53', '44', '-1.53', '412', '0.11']\n",
      "['18. Atletico Madrid', '44.32', '43', '-1.32', '453', '0.1']\n",
      "['19. Athletic Club', '43.75', '33', '-10.75', '410', '0.11']\n",
      "['20. Real Madrid', '40.57', '25', '-15.57', '392', '0.1']\n"
     ]
    }
   ],
   "source": [
    "for i in range(0,20):\n",
    "    print(For_xg[i])"
   ]
  },
  {
   "cell_type": "code",
   "execution_count": 267,
   "id": "080d9b58-fe7e-4572-97b0-6d1016cf279a",
   "metadata": {},
   "outputs": [
    {
     "data": {
      "text/html": [
       "<div>\n",
       "<style scoped>\n",
       "    .dataframe tbody tr th:only-of-type {\n",
       "        vertical-align: middle;\n",
       "    }\n",
       "\n",
       "    .dataframe tbody tr th {\n",
       "        vertical-align: top;\n",
       "    }\n",
       "\n",
       "    .dataframe thead th {\n",
       "        text-align: right;\n",
       "    }\n",
       "</style>\n",
       "<table border=\"1\" class=\"dataframe\">\n",
       "  <thead>\n",
       "    <tr style=\"text-align: right;\">\n",
       "      <th></th>\n",
       "      <th>Teams</th>\n",
       "      <th>xG</th>\n",
       "      <th>Goals</th>\n",
       "      <th>xG_Diff</th>\n",
       "      <th>Shots</th>\n",
       "      <th>xG_shots</th>\n",
       "    </tr>\n",
       "  </thead>\n",
       "  <tbody>\n",
       "    <tr>\n",
       "      <th>0</th>\n",
       "      <td>1. Almeria</td>\n",
       "      <td>69.71</td>\n",
       "      <td>75</td>\n",
       "      <td>5.29</td>\n",
       "      <td>593</td>\n",
       "      <td>0.12</td>\n",
       "    </tr>\n",
       "    <tr>\n",
       "      <th>1</th>\n",
       "      <td>2. Granada</td>\n",
       "      <td>68.55</td>\n",
       "      <td>77</td>\n",
       "      <td>8.45</td>\n",
       "      <td>494</td>\n",
       "      <td>0.14</td>\n",
       "    </tr>\n",
       "  </tbody>\n",
       "</table>\n",
       "</div>"
      ],
      "text/plain": [
       "        Teams     xG Goals xG_Diff Shots xG_shots\n",
       "0  1. Almeria  69.71    75    5.29   593     0.12\n",
       "1  2. Granada  68.55    77    8.45   494     0.14"
      ]
     },
     "execution_count": 267,
     "metadata": {},
     "output_type": "execute_result"
    }
   ],
   "source": [
    "df4=pd.DataFrame(For_xg,columns=cols)\n",
    "df4.head(2)"
   ]
  },
  {
   "cell_type": "code",
   "execution_count": 269,
   "id": "184beb9b-d1f4-466f-9e9c-7c2d7d54e8e9",
   "metadata": {},
   "outputs": [],
   "source": [
    "df4.to_csv('LaLiga2023-24/Offensive_Summary_Against.csv',index=False)"
   ]
  },
  {
   "cell_type": "code",
   "execution_count": 273,
   "id": "b26978e1-e87c-480f-8f9b-f12046b79beb",
   "metadata": {},
   "outputs": [],
   "source": [
    "for_goals_table=content.find_element(By.ID, 'stage-goals-grid')"
   ]
  },
  {
   "cell_type": "code",
   "execution_count": 275,
   "id": "b6879e42-e230-4756-be91-f72e5590a745",
   "metadata": {},
   "outputs": [],
   "source": [
    "for_goals_table_rows=for_goals_table.find_elements(By.TAG_NAME, 'tr')"
   ]
  },
  {
   "cell_type": "code",
   "execution_count": 277,
   "id": "ce8427f5-822d-4413-ba81-accf691bf0b5",
   "metadata": {},
   "outputs": [
    {
     "data": {
      "text/plain": [
       "21"
      ]
     },
     "execution_count": 277,
     "metadata": {},
     "output_type": "execute_result"
    }
   ],
   "source": [
    "len(for_goals_table_rows)"
   ]
  },
  {
   "cell_type": "code",
   "execution_count": 279,
   "id": "1a234e2e-0056-4cb4-964b-1a81768be63d",
   "metadata": {},
   "outputs": [],
   "source": [
    "Goals_for=[]\n",
    "cols=['Teams','Open_Play','Counter_Attack','Set_Piece','Penalty','Own_Goal']\n",
    "for j in range(1,21):\n",
    "    row_cells=for_goals_table_rows[j].find_elements(By.TAG_NAME,'td')\n",
    "    Goals_for.append([row_cells[1].text,row_cells[2].text,row_cells[3].text,row_cells[4].text,row_cells[5].text,row_cells[6].text])"
   ]
  },
  {
   "cell_type": "code",
   "execution_count": 283,
   "id": "e8668cf9-4a8a-43f2-aa17-8670173fe9bc",
   "metadata": {},
   "outputs": [
    {
     "name": "stdout",
     "output_type": "stream",
     "text": [
      "['Real Madrid', '65', '8', '10', '2', '2']\n",
      "['Girona', '64', '2', '11', '7', '1']\n",
      "['Barcelona', '57', '2', '11', '6', '3']\n",
      "['Atletico Madrid', '52', '6', '5', '5', '2']\n",
      "['Athletic Club', '44', '3', '9', '3', '2']\n",
      "['Villarreal', '41', '6', '12', '5', '1']\n",
      "['Real Betis', '32', '3', '9', '2', '2']\n",
      "['Almeria', '31', '5', '4', '2', '1']\n",
      "['Valencia', '28', '2', '1', '8', '1']\n",
      "['Real Sociedad', '28', '4', '12', '4', '3']\n",
      "['Getafe', '28', '1', '7', '6', '0']\n",
      "['Celta Vigo', '28', '7', '7', '3', '1']\n",
      "['Osasuna', '26', '1', '14', '4', '0']\n",
      "['Sevilla', '26', '5', '13', '2', '2']\n",
      "['Las Palmas', '22', '2', '6', '3', '0']\n",
      "['Granada', '21', '3', '6', '5', '3']\n",
      "['Mallorca', '17', '0', '15', '1', '0']\n",
      "['Deportivo Alaves', '17', '5', '8', '3', '3']\n",
      "['Cadiz', '15', '0', '7', '3', '1']\n",
      "['Rayo Vallecano', '14', '1', '8', '6', '0']\n"
     ]
    }
   ],
   "source": [
    "for i in range(0,20):\n",
    "    print(Goals_for[i])"
   ]
  },
  {
   "cell_type": "code",
   "execution_count": 285,
   "id": "ab808f06-4ac1-4760-b9a9-cbddc54d5fc8",
   "metadata": {},
   "outputs": [
    {
     "data": {
      "text/html": [
       "<div>\n",
       "<style scoped>\n",
       "    .dataframe tbody tr th:only-of-type {\n",
       "        vertical-align: middle;\n",
       "    }\n",
       "\n",
       "    .dataframe tbody tr th {\n",
       "        vertical-align: top;\n",
       "    }\n",
       "\n",
       "    .dataframe thead th {\n",
       "        text-align: right;\n",
       "    }\n",
       "</style>\n",
       "<table border=\"1\" class=\"dataframe\">\n",
       "  <thead>\n",
       "    <tr style=\"text-align: right;\">\n",
       "      <th></th>\n",
       "      <th>Teams</th>\n",
       "      <th>Open_Play</th>\n",
       "      <th>Counter_Attack</th>\n",
       "      <th>Set_Piece</th>\n",
       "      <th>Penalty</th>\n",
       "      <th>Own_Goal</th>\n",
       "    </tr>\n",
       "  </thead>\n",
       "  <tbody>\n",
       "    <tr>\n",
       "      <th>0</th>\n",
       "      <td>Real Madrid</td>\n",
       "      <td>65</td>\n",
       "      <td>8</td>\n",
       "      <td>10</td>\n",
       "      <td>2</td>\n",
       "      <td>2</td>\n",
       "    </tr>\n",
       "    <tr>\n",
       "      <th>1</th>\n",
       "      <td>Girona</td>\n",
       "      <td>64</td>\n",
       "      <td>2</td>\n",
       "      <td>11</td>\n",
       "      <td>7</td>\n",
       "      <td>1</td>\n",
       "    </tr>\n",
       "  </tbody>\n",
       "</table>\n",
       "</div>"
      ],
      "text/plain": [
       "         Teams Open_Play Counter_Attack Set_Piece Penalty Own_Goal\n",
       "0  Real Madrid        65              8        10       2        2\n",
       "1       Girona        64              2        11       7        1"
      ]
     },
     "execution_count": 285,
     "metadata": {},
     "output_type": "execute_result"
    }
   ],
   "source": [
    "df5=pd.DataFrame(Goals_for,columns=cols)\n",
    "df5.head(2)"
   ]
  },
  {
   "cell_type": "code",
   "execution_count": 287,
   "id": "3b6b835c-66ad-4331-a3e7-9a8807f38154",
   "metadata": {},
   "outputs": [],
   "source": [
    "df5.to_csv('LaLiga2023-24/Goal_Types_For.csv',index=False)"
   ]
  },
  {
   "cell_type": "code",
   "execution_count": 289,
   "id": "9ad241a7-2e09-4d32-beb4-8b259627b603",
   "metadata": {},
   "outputs": [
    {
     "name": "stdout",
     "output_type": "stream",
     "text": [
      "['Granada', '55', '3', '14', '5', '2']\n",
      "['Almeria', '52', '6', '11', '6', '0']\n",
      "['Osasuna', '42', '4', '9', '1', '0']\n",
      "['Villarreal', '38', '5', '15', '6', '1']\n",
      "['Atletico Madrid', '37', '1', '4', '1', '0']\n",
      "['Celta Vigo', '37', '2', '9', '6', '3']\n",
      "['Cadiz', '35', '8', '9', '2', '1']\n",
      "['Barcelona', '34', '4', '4', '2', '0']\n",
      "['Getafe', '34', '1', '14', '5', '0']\n",
      "['Rayo Vallecano', '32', '5', '8', '1', '2']\n",
      "['Sevilla', '32', '3', '12', '5', '2']\n",
      "['Deportivo Alaves', '30', '0', '6', '8', '2']\n",
      "['Valencia', '29', '1', '10', '3', '2']\n",
      "['Girona', '27', '5', '9', '5', '0']\n",
      "['Las Palmas', '27', '5', '7', '5', '3']\n",
      "['Mallorca', '26', '2', '11', '4', '1']\n",
      "['Real Betis', '24', '2', '9', '7', '3']\n",
      "['Athletic Club', '23', '4', '5', '1', '4']\n",
      "['Real Sociedad', '23', '2', '7', '6', '1']\n",
      "['Real Madrid', '19', '3', '2', '1', '1']\n"
     ]
    }
   ],
   "source": [
    "Against_goals_table=content.find_element(By.ID, 'stage-goals-grid')\n",
    "Against_goals_table_rows=Against_goals_table.find_elements(By.TAG_NAME, 'tr')\n",
    "\n",
    "Goals_against=[]\n",
    "\n",
    "for j in range(1,21):\n",
    "    row_cells=Against_goals_table_rows[j].find_elements(By.TAG_NAME,'td')\n",
    "    Goals_against.append([row_cells[1].text,row_cells[2].text,row_cells[3].text,row_cells[4].text,row_cells[5].text,row_cells[6].text])\n",
    "\n",
    "\n",
    "for i in range(0,20):\n",
    "    print(Goals_against[i])"
   ]
  },
  {
   "cell_type": "code",
   "execution_count": 291,
   "id": "2980993d-c0e4-4cb7-aa17-94a25e0d4fa4",
   "metadata": {},
   "outputs": [
    {
     "data": {
      "text/html": [
       "<div>\n",
       "<style scoped>\n",
       "    .dataframe tbody tr th:only-of-type {\n",
       "        vertical-align: middle;\n",
       "    }\n",
       "\n",
       "    .dataframe tbody tr th {\n",
       "        vertical-align: top;\n",
       "    }\n",
       "\n",
       "    .dataframe thead th {\n",
       "        text-align: right;\n",
       "    }\n",
       "</style>\n",
       "<table border=\"1\" class=\"dataframe\">\n",
       "  <thead>\n",
       "    <tr style=\"text-align: right;\">\n",
       "      <th></th>\n",
       "      <th>Teams</th>\n",
       "      <th>Open_Play</th>\n",
       "      <th>Counter_Attack</th>\n",
       "      <th>Set_Piece</th>\n",
       "      <th>Penalty</th>\n",
       "      <th>Own_Goal</th>\n",
       "    </tr>\n",
       "  </thead>\n",
       "  <tbody>\n",
       "    <tr>\n",
       "      <th>0</th>\n",
       "      <td>Granada</td>\n",
       "      <td>55</td>\n",
       "      <td>3</td>\n",
       "      <td>14</td>\n",
       "      <td>5</td>\n",
       "      <td>2</td>\n",
       "    </tr>\n",
       "    <tr>\n",
       "      <th>1</th>\n",
       "      <td>Almeria</td>\n",
       "      <td>52</td>\n",
       "      <td>6</td>\n",
       "      <td>11</td>\n",
       "      <td>6</td>\n",
       "      <td>0</td>\n",
       "    </tr>\n",
       "  </tbody>\n",
       "</table>\n",
       "</div>"
      ],
      "text/plain": [
       "     Teams Open_Play Counter_Attack Set_Piece Penalty Own_Goal\n",
       "0  Granada        55              3        14       5        2\n",
       "1  Almeria        52              6        11       6        0"
      ]
     },
     "execution_count": 291,
     "metadata": {},
     "output_type": "execute_result"
    }
   ],
   "source": [
    "df6=pd.DataFrame(Goals_against,columns=cols)\n",
    "df6.head(2)"
   ]
  },
  {
   "cell_type": "code",
   "execution_count": 293,
   "id": "5b9abcaf-e601-41a9-bf25-ee6c2c664d4a",
   "metadata": {},
   "outputs": [],
   "source": [
    "df6.to_csv('LaLiga2023-24/Goals_Types_Against.csv',index=False)"
   ]
  },
  {
   "cell_type": "code",
   "execution_count": 297,
   "id": "a75df1df-8e51-412c-8c07-1d5e6083379b",
   "metadata": {},
   "outputs": [
    {
     "name": "stdout",
     "output_type": "stream",
     "text": [
      "['Real Madrid', '16', '2', '44', '570']\n",
      "['Barcelona', '17', '3', '43', '570']\n",
      "['Las Palmas', '15', '2', '47', '519']\n",
      "['Girona', '18', '1', '45', '496']\n",
      "['Atletico Madrid', '17', '2', '50', '459']\n",
      "['Real Sociedad', '18', '1', '51', '415']\n",
      "['Real Betis', '17', '1', '51', '411']\n",
      "['Villarreal', '16', '2', '51', '405']\n",
      "['Athletic Club', '22', '2', '58', '390']\n",
      "['Sevilla', '25', '1', '61', '382']\n",
      "['Celta Vigo', '17', '2', '53', '376']\n",
      "['Rayo Vallecano', '18', '1', '64', '353']\n",
      "['Osasuna', '21', '1', '67', '344']\n",
      "['Almeria', '17', '1', '57', '341']\n",
      "['Valencia', '16', '1', '60', '328']\n",
      "['Granada', '18', '1', '62', '318']\n",
      "['Mallorca', '20', '1', '65', '305']\n",
      "['Getafe', '18', '1', '76', '284']\n",
      "['Cadiz', '21', '1', '70', '283']\n",
      "['Deportivo Alaves', '22', '1', '62', '265']\n"
     ]
    }
   ],
   "source": [
    "for_pass_table=content.find_element(By.ID, 'stage-passes-grid')\n",
    "for_pass_table_rows=for_pass_table.find_elements(By.TAG_NAME, 'tr')\n",
    "cols=['Teams','Cross_pg','Through_Ball_pg','Long_Ball_pg','Short_Passes_pg']\n",
    "\n",
    "Passes_For=[]\n",
    "\n",
    "for j in range(1,21):\n",
    "    row_cells=for_pass_table_rows[j].find_elements(By.TAG_NAME,'td')\n",
    "    Passes_For.append([row_cells[1].text,row_cells[2].text,row_cells[3].text,row_cells[4].text,row_cells[5].text])\n",
    "    \n",
    "\n",
    "for i in range(0,20):\n",
    "    print(Passes_For[i])"
   ]
  },
  {
   "cell_type": "code",
   "execution_count": 299,
   "id": "12457bc1-29bb-46f4-8979-1e61b7c87d6a",
   "metadata": {},
   "outputs": [
    {
     "data": {
      "text/html": [
       "<div>\n",
       "<style scoped>\n",
       "    .dataframe tbody tr th:only-of-type {\n",
       "        vertical-align: middle;\n",
       "    }\n",
       "\n",
       "    .dataframe tbody tr th {\n",
       "        vertical-align: top;\n",
       "    }\n",
       "\n",
       "    .dataframe thead th {\n",
       "        text-align: right;\n",
       "    }\n",
       "</style>\n",
       "<table border=\"1\" class=\"dataframe\">\n",
       "  <thead>\n",
       "    <tr style=\"text-align: right;\">\n",
       "      <th></th>\n",
       "      <th>Teams</th>\n",
       "      <th>Cross_pg</th>\n",
       "      <th>Through_Ball_pg</th>\n",
       "      <th>Long_Ball_pg</th>\n",
       "      <th>Short_Passes_pg</th>\n",
       "    </tr>\n",
       "  </thead>\n",
       "  <tbody>\n",
       "    <tr>\n",
       "      <th>0</th>\n",
       "      <td>Real Madrid</td>\n",
       "      <td>16</td>\n",
       "      <td>2</td>\n",
       "      <td>44</td>\n",
       "      <td>570</td>\n",
       "    </tr>\n",
       "    <tr>\n",
       "      <th>1</th>\n",
       "      <td>Barcelona</td>\n",
       "      <td>17</td>\n",
       "      <td>3</td>\n",
       "      <td>43</td>\n",
       "      <td>570</td>\n",
       "    </tr>\n",
       "  </tbody>\n",
       "</table>\n",
       "</div>"
      ],
      "text/plain": [
       "         Teams Cross_pg Through_Ball_pg Long_Ball_pg Short_Passes_pg\n",
       "0  Real Madrid       16               2           44             570\n",
       "1    Barcelona       17               3           43             570"
      ]
     },
     "execution_count": 299,
     "metadata": {},
     "output_type": "execute_result"
    }
   ],
   "source": [
    "df7=pd.DataFrame(Passes_For,columns=cols)\n",
    "df7.head(2)"
   ]
  },
  {
   "cell_type": "code",
   "execution_count": 301,
   "id": "8266b26c-61cc-4bec-99b2-2a703e3d33a5",
   "metadata": {},
   "outputs": [],
   "source": [
    "df7.to_csv('LaLiga2023-24/Passes_Types_For.csv',index=False)"
   ]
  },
  {
   "cell_type": "code",
   "execution_count": 307,
   "id": "cb5bef31-15e6-44f3-85a2-70aef80b391c",
   "metadata": {},
   "outputs": [
    {
     "name": "stdout",
     "output_type": "stream",
     "text": [
      "['Celta Vigo', '20', '1', '58', '451']\n",
      "['Valencia', '19', '1', '61', '441']\n",
      "['Atletico Madrid', '20', '1', '52', '436']\n",
      "['Deportivo Alaves', '18', '1', '56', '435']\n",
      "['Cadiz', '20', '1', '57', '425']\n",
      "['Mallorca', '17', '1', '57', '412']\n",
      "['Granada', '19', '2', '59', '410']\n",
      "['Villarreal', '23', '1', '53', '409']\n",
      "['Almeria', '22', '1', '57', '408']\n",
      "['Real Betis', '19', '1', '52', '406']\n",
      "['Osasuna', '18', '2', '59', '404']\n",
      "['Athletic Club', '16', '1', '64', '402']\n",
      "['Sevilla', '18', '2', '55', '393']\n",
      "['Getafe', '17', '2', '64', '392']\n",
      "['Real Madrid', '18', '1', '47', '368']\n",
      "['Rayo Vallecano', '18', '1', '62', '366']\n",
      "['Girona', '19', '1', '51', '349']\n",
      "['Las Palmas', '18', '3', '57', '317']\n",
      "['Real Sociedad', '14', '1', '64', '311']\n",
      "['Barcelona', '15', '1', '53', '279']\n"
     ]
    }
   ],
   "source": [
    "against_pass_table=content.find_element(By.ID, 'stage-passes-grid')\n",
    "against_pass_table_rows=against_pass_table.find_elements(By.TAG_NAME, 'tr')\n",
    "\n",
    "\n",
    "cols=['Teams','Cross_pg','Through_Ball_pg','Long_Ball_pg','Short_Passes_pg']\n",
    "\n",
    "Passes_Against=[]\n",
    "\n",
    "for j in range(1,21):\n",
    "    row_cells=against_pass_table_rows[j].find_elements(By.TAG_NAME,'td')\n",
    "    Passes_Against.append([row_cells[1].text,row_cells[2].text,row_cells[3].text,row_cells[4].text,row_cells[5].text])\n",
    "\n",
    "for i in range(0,20):\n",
    "    print(Passes_Against[i])"
   ]
  },
  {
   "cell_type": "code",
   "execution_count": 309,
   "id": "1f78213f-4eac-4e5f-b0e6-80d5966d7c78",
   "metadata": {},
   "outputs": [
    {
     "data": {
      "text/html": [
       "<div>\n",
       "<style scoped>\n",
       "    .dataframe tbody tr th:only-of-type {\n",
       "        vertical-align: middle;\n",
       "    }\n",
       "\n",
       "    .dataframe tbody tr th {\n",
       "        vertical-align: top;\n",
       "    }\n",
       "\n",
       "    .dataframe thead th {\n",
       "        text-align: right;\n",
       "    }\n",
       "</style>\n",
       "<table border=\"1\" class=\"dataframe\">\n",
       "  <thead>\n",
       "    <tr style=\"text-align: right;\">\n",
       "      <th></th>\n",
       "      <th>Teams</th>\n",
       "      <th>Cross_pg</th>\n",
       "      <th>Through_Ball_pg</th>\n",
       "      <th>Long_Ball_pg</th>\n",
       "      <th>Short_Passes_pg</th>\n",
       "    </tr>\n",
       "  </thead>\n",
       "  <tbody>\n",
       "    <tr>\n",
       "      <th>0</th>\n",
       "      <td>Celta Vigo</td>\n",
       "      <td>20</td>\n",
       "      <td>1</td>\n",
       "      <td>58</td>\n",
       "      <td>451</td>\n",
       "    </tr>\n",
       "    <tr>\n",
       "      <th>1</th>\n",
       "      <td>Valencia</td>\n",
       "      <td>19</td>\n",
       "      <td>1</td>\n",
       "      <td>61</td>\n",
       "      <td>441</td>\n",
       "    </tr>\n",
       "  </tbody>\n",
       "</table>\n",
       "</div>"
      ],
      "text/plain": [
       "        Teams Cross_pg Through_Ball_pg Long_Ball_pg Short_Passes_pg\n",
       "0  Celta Vigo       20               1           58             451\n",
       "1    Valencia       19               1           61             441"
      ]
     },
     "execution_count": 309,
     "metadata": {},
     "output_type": "execute_result"
    }
   ],
   "source": [
    "df8=pd.DataFrame(Passes_Against,columns=cols)\n",
    "df8.head(2)"
   ]
  },
  {
   "cell_type": "code",
   "execution_count": 311,
   "id": "e33ba20c-11c7-41f1-9bae-5de85f08c51f",
   "metadata": {},
   "outputs": [],
   "source": [
    "df8.to_csv('LaLiga2023-24/Passes_Types_Against.csv',index=False)"
   ]
  },
  {
   "cell_type": "code",
   "execution_count": 321,
   "id": "5d845f3e-b72a-4f4f-b4b6-990764066ebb",
   "metadata": {},
   "outputs": [
    {
     "name": "stdout",
     "output_type": "stream",
     "text": [
      "['Getafe', '93', '11', '37']\n",
      "['Cadiz', '83', '10', '21']\n",
      "['Villarreal', '78', '12', '24']\n",
      "['Sevilla', '74', '5', '33']\n",
      "['Granada', '74', '8', '19']\n",
      "['Rayo Vallecano', '73', '10', '26']\n",
      "['Almeria', '69', '6', '20']\n",
      "['Real Sociedad', '67', '7', '26']\n",
      "['Real Betis', '66', '6', '17']\n",
      "['Atletico Madrid', '66', '6', '18']\n",
      "['Mallorca', '65', '4', '38']\n",
      "['Deportivo Alaves', '60', '10', '15']\n",
      "['Athletic Club', '58', '7', '18']\n",
      "['Osasuna', '58', '6', '18']\n",
      "['Barcelona', '53', '12', '23']\n",
      "['Girona', '52', '8', '16']\n",
      "['Las Palmas', '49', '5', '32']\n",
      "['Valencia', '45', '3', '19']\n",
      "['Celta Vigo', '45', '5', '19']\n",
      "['Real Madrid', '42', '10', '20']\n"
     ]
    }
   ],
   "source": [
    "card_table=content.find_element(By.ID, 'stage-cards-grid')\n",
    "card_table_rows=card_table.find_elements(By.TAG_NAME, 'tr')\n",
    "\n",
    "cards=[]\n",
    "cols=['Teams','Fouls','Unprofessional','Other']\n",
    "\n",
    "for j in range(1,21):\n",
    "    row_cells=card_table_rows[j].find_elements(By.TAG_NAME,'td')\n",
    "    \n",
    "    cards.append([row_cells[1].text,row_cells[2].text,row_cells[3].text,row_cells[5].text])    \n",
    "\n",
    "for i in range(0,20):\n",
    "    print(cards[i])"
   ]
  },
  {
   "cell_type": "code",
   "execution_count": 323,
   "id": "e4c0e958-fb1d-4f5f-82f6-ab471475b064",
   "metadata": {},
   "outputs": [
    {
     "data": {
      "text/html": [
       "<div>\n",
       "<style scoped>\n",
       "    .dataframe tbody tr th:only-of-type {\n",
       "        vertical-align: middle;\n",
       "    }\n",
       "\n",
       "    .dataframe tbody tr th {\n",
       "        vertical-align: top;\n",
       "    }\n",
       "\n",
       "    .dataframe thead th {\n",
       "        text-align: right;\n",
       "    }\n",
       "</style>\n",
       "<table border=\"1\" class=\"dataframe\">\n",
       "  <thead>\n",
       "    <tr style=\"text-align: right;\">\n",
       "      <th></th>\n",
       "      <th>Teams</th>\n",
       "      <th>Fouls</th>\n",
       "      <th>Unprofessional</th>\n",
       "      <th>Other</th>\n",
       "    </tr>\n",
       "  </thead>\n",
       "  <tbody>\n",
       "    <tr>\n",
       "      <th>0</th>\n",
       "      <td>Getafe</td>\n",
       "      <td>93</td>\n",
       "      <td>11</td>\n",
       "      <td>37</td>\n",
       "    </tr>\n",
       "    <tr>\n",
       "      <th>1</th>\n",
       "      <td>Cadiz</td>\n",
       "      <td>83</td>\n",
       "      <td>10</td>\n",
       "      <td>21</td>\n",
       "    </tr>\n",
       "  </tbody>\n",
       "</table>\n",
       "</div>"
      ],
      "text/plain": [
       "    Teams Fouls Unprofessional Other\n",
       "0  Getafe    93             11    37\n",
       "1   Cadiz    83             10    21"
      ]
     },
     "execution_count": 323,
     "metadata": {},
     "output_type": "execute_result"
    }
   ],
   "source": [
    "df9=pd.DataFrame(cards,columns=cols)\n",
    "df9.head(2)"
   ]
  },
  {
   "cell_type": "code",
   "execution_count": 325,
   "id": "459a5122-44cf-422d-9cef-5825e6d6cf41",
   "metadata": {},
   "outputs": [],
   "source": [
    "df9.to_csv('LaLiga2023-24/Cards_Foul_Type.csv',index=False)"
   ]
  },
  {
   "cell_type": "code",
   "execution_count": 327,
   "id": "a240eafb-db0d-4898-8640-8ffe623ffada",
   "metadata": {},
   "outputs": [
    {
     "name": "stdout",
     "output_type": "stream",
     "text": [
      "['Las Palmas', '43%', '25%', '33%']\n",
      "['Real Betis', '42%', '21%', '37%']\n",
      "['Real Madrid', '40%', '25%', '35%']\n",
      "['Real Sociedad', '40%', '24%', '36%']\n",
      "['Rayo Vallecano', '39%', '23%', '38%']\n",
      "['Getafe', '39%', '27%', '34%']\n",
      "['Deportivo Alaves', '38%', '24%', '38%']\n",
      "['Osasuna', '38%', '24%', '38%']\n",
      "['Cadiz', '38%', '26%', '36%']\n",
      "['Sevilla', '37%', '23%', '41%']\n",
      "['Mallorca', '36%', '27%', '37%']\n",
      "['Valencia', '36%', '22%', '42%']\n",
      "['Atletico Madrid', '36%', '25%', '39%']\n",
      "['Celta Vigo', '36%', '25%', '40%']\n",
      "['Granada', '36%', '26%', '38%']\n",
      "['Athletic Club', '35%', '25%', '41%']\n",
      "['Barcelona', '35%', '29%', '36%']\n",
      "['Almeria', '35%', '25%', '40%']\n",
      "['Girona', '34%', '25%', '41%']\n",
      "['Villarreal', '32%', '28%', '40%']\n"
     ]
    }
   ],
   "source": [
    "Attack_Sides_table=content.find_element(By.ID, 'stage-touch-channels-grid')\n",
    "Attack_Sides_rows=Attack_Sides_table.find_elements(By.TAG_NAME, 'tr')\n",
    "cols=['Teams','Left','Middle','Right']\n",
    "\n",
    "Attack_sides=[]\n",
    "\n",
    "for j in range(1,21):\n",
    "    row_cells=Attack_Sides_rows[j].find_elements(By.TAG_NAME,'td')\n",
    "    Attack_sides.append([row_cells[1].text,row_cells[2].text,row_cells[3].text,row_cells[4].text])\n",
    "\n",
    "for i in range(0,20):\n",
    "    print(Attack_sides[i])"
   ]
  },
  {
   "cell_type": "code",
   "execution_count": 329,
   "id": "c43bc91e-9841-4252-b38a-00bb2500a4c4",
   "metadata": {},
   "outputs": [
    {
     "data": {
      "text/html": [
       "<div>\n",
       "<style scoped>\n",
       "    .dataframe tbody tr th:only-of-type {\n",
       "        vertical-align: middle;\n",
       "    }\n",
       "\n",
       "    .dataframe tbody tr th {\n",
       "        vertical-align: top;\n",
       "    }\n",
       "\n",
       "    .dataframe thead th {\n",
       "        text-align: right;\n",
       "    }\n",
       "</style>\n",
       "<table border=\"1\" class=\"dataframe\">\n",
       "  <thead>\n",
       "    <tr style=\"text-align: right;\">\n",
       "      <th></th>\n",
       "      <th>Teams</th>\n",
       "      <th>Left</th>\n",
       "      <th>Middle</th>\n",
       "      <th>Right</th>\n",
       "    </tr>\n",
       "  </thead>\n",
       "  <tbody>\n",
       "    <tr>\n",
       "      <th>0</th>\n",
       "      <td>Las Palmas</td>\n",
       "      <td>43%</td>\n",
       "      <td>25%</td>\n",
       "      <td>33%</td>\n",
       "    </tr>\n",
       "    <tr>\n",
       "      <th>1</th>\n",
       "      <td>Real Betis</td>\n",
       "      <td>42%</td>\n",
       "      <td>21%</td>\n",
       "      <td>37%</td>\n",
       "    </tr>\n",
       "  </tbody>\n",
       "</table>\n",
       "</div>"
      ],
      "text/plain": [
       "        Teams Left Middle Right\n",
       "0  Las Palmas  43%    25%   33%\n",
       "1  Real Betis  42%    21%   37%"
      ]
     },
     "execution_count": 329,
     "metadata": {},
     "output_type": "execute_result"
    }
   ],
   "source": [
    "df10=pd.DataFrame(Attack_sides,columns=cols)\n",
    "df10.head(2)"
   ]
  },
  {
   "cell_type": "code",
   "execution_count": 331,
   "id": "c69a6562-ffdd-4475-8c68-c55219699674",
   "metadata": {},
   "outputs": [],
   "source": [
    "df10.to_csv('LaLiga2023-24/Attack_Sides.csv',index=False)"
   ]
  },
  {
   "cell_type": "code",
   "execution_count": 333,
   "id": "e64761fa-f444-4ee9-87be-96643dbdab6e",
   "metadata": {},
   "outputs": [
    {
     "name": "stdout",
     "output_type": "stream",
     "text": [
      "['Las Palmas', '27%', '56%', '17%']\n",
      "['Real Betis', '24%', '61%', '15%']\n",
      "['Atletico Madrid', '23%', '61%', '16%']\n",
      "['Rayo Vallecano', '22%', '58%', '21%']\n",
      "['Real Madrid', '20%', '63%', '17%']\n",
      "['Athletic Club', '19%', '66%', '15%']\n",
      "['Valencia', '19%', '61%', '21%']\n",
      "['Cadiz', '19%', '68%', '13%']\n",
      "['Deportivo Alaves', '17%', '68%', '15%']\n",
      "['Celta Vigo', '17%', '66%', '18%']\n",
      "['Almeria', '17%', '63%', '19%']\n",
      "['Sevilla', '16%', '69%', '14%']\n",
      "['Barcelona', '16%', '71%', '13%']\n",
      "['Granada', '16%', '67%', '17%']\n",
      "['Real Sociedad', '15%', '64%', '20%']\n",
      "['Getafe', '15%', '69%', '16%']\n",
      "['Villarreal', '15%', '67%', '18%']\n",
      "['Girona', '12%', '74%', '14%']\n",
      "['Osasuna', '11%', '74%', '15%']\n",
      "['Mallorca', '10%', '75%', '15%']\n"
     ]
    }
   ],
   "source": [
    "For_Attempts_Sides_table=content.find_element(By.ID, 'stage-attempt-directions-grid')\n",
    "For_Attempts_Sides_rows=For_Attempts_Sides_table.find_elements(By.TAG_NAME, 'tr')\n",
    "\n",
    "Attempts_sides_for=[]\n",
    "\n",
    "for j in range(1,21):\n",
    "    row_cells=For_Attempts_Sides_rows[j].find_elements(By.TAG_NAME,'td')\n",
    "    Attempts_sides_for.append([row_cells[1].text,row_cells[2].text,row_cells[3].text,row_cells[4].text])\n",
    "\n",
    "for i in range(0,20):\n",
    "    print(Attempts_sides_for[i])"
   ]
  },
  {
   "cell_type": "code",
   "execution_count": 335,
   "id": "118fbe02-bd40-4ec5-b207-b937a86a4d92",
   "metadata": {},
   "outputs": [
    {
     "data": {
      "text/html": [
       "<div>\n",
       "<style scoped>\n",
       "    .dataframe tbody tr th:only-of-type {\n",
       "        vertical-align: middle;\n",
       "    }\n",
       "\n",
       "    .dataframe tbody tr th {\n",
       "        vertical-align: top;\n",
       "    }\n",
       "\n",
       "    .dataframe thead th {\n",
       "        text-align: right;\n",
       "    }\n",
       "</style>\n",
       "<table border=\"1\" class=\"dataframe\">\n",
       "  <thead>\n",
       "    <tr style=\"text-align: right;\">\n",
       "      <th></th>\n",
       "      <th>Teams</th>\n",
       "      <th>Left</th>\n",
       "      <th>Middle</th>\n",
       "      <th>Right</th>\n",
       "    </tr>\n",
       "  </thead>\n",
       "  <tbody>\n",
       "    <tr>\n",
       "      <th>0</th>\n",
       "      <td>Las Palmas</td>\n",
       "      <td>27%</td>\n",
       "      <td>56%</td>\n",
       "      <td>17%</td>\n",
       "    </tr>\n",
       "    <tr>\n",
       "      <th>1</th>\n",
       "      <td>Real Betis</td>\n",
       "      <td>24%</td>\n",
       "      <td>61%</td>\n",
       "      <td>15%</td>\n",
       "    </tr>\n",
       "  </tbody>\n",
       "</table>\n",
       "</div>"
      ],
      "text/plain": [
       "        Teams Left Middle Right\n",
       "0  Las Palmas  27%    56%   17%\n",
       "1  Real Betis  24%    61%   15%"
      ]
     },
     "execution_count": 335,
     "metadata": {},
     "output_type": "execute_result"
    }
   ],
   "source": [
    "df11=pd.DataFrame(Attempts_sides_for,columns=cols)\n",
    "df11.head(2)"
   ]
  },
  {
   "cell_type": "code",
   "execution_count": 337,
   "id": "81ac8bd6-8035-4341-b7d5-cdb56718460d",
   "metadata": {},
   "outputs": [],
   "source": [
    "df11.to_csv('LaLiga2023-24/Attempts_Sides.csv',index=False)"
   ]
  },
  {
   "cell_type": "code",
   "execution_count": 341,
   "id": "c96c13b5-fe1c-44e1-9e92-088755b49f2c",
   "metadata": {},
   "outputs": [
    {
     "name": "stdout",
     "output_type": "stream",
     "text": [
      "['Barcelona', '21%', '62%', '16%']\n",
      "['Getafe', '21%', '64%', '15%']\n",
      "['Osasuna', '20%', '61%', '19%']\n",
      "['Cadiz', '20%', '66%', '14%']\n",
      "['Almeria', '20%', '67%', '13%']\n",
      "['Deportivo Alaves', '19%', '63%', '19%']\n",
      "['Athletic Club', '18%', '64%', '18%']\n",
      "['Real Sociedad', '18%', '67%', '15%']\n",
      "['Rayo Vallecano', '18%', '65%', '18%']\n",
      "['Granada', '18%', '65%', '17%']\n",
      "['Sevilla', '17%', '67%', '16%']\n",
      "['Girona', '17%', '66%', '16%']\n",
      "['Celta Vigo', '16%', '66%', '18%']\n",
      "['Villarreal', '16%', '67%', '17%']\n",
      "['Las Palmas', '16%', '68%', '15%']\n",
      "['Mallorca', '15%', '70%', '16%']\n",
      "['Valencia', '15%', '68%', '16%']\n",
      "['Atletico Madrid', '15%', '69%', '16%']\n",
      "['Real Madrid', '13%', '69%', '18%']\n",
      "['Real Betis', '13%', '70%', '18%']\n"
     ]
    }
   ],
   "source": [
    "Attempts_Sides_table=content.find_element(By.ID, 'stage-attempt-directions-grid')\n",
    "Attempts_Sides_rows=Attempts_Sides_table.find_elements(By.TAG_NAME, 'tr')\n",
    "\n",
    "Against=[]\n",
    "\n",
    "\n",
    "for j in range(1,21):\n",
    "    row_cells=Attempts_Sides_rows[j].find_elements(By.TAG_NAME,'td')\n",
    "    Against.append([row_cells[1].text,row_cells[2].text,row_cells[3].text,row_cells[4].text])\n",
    "    \n",
    "\n",
    "for i in range(0,20):\n",
    "    print(Against[i])"
   ]
  },
  {
   "cell_type": "code",
   "execution_count": 343,
   "id": "d0111177-27a5-41fa-9456-32cffe786245",
   "metadata": {},
   "outputs": [
    {
     "data": {
      "text/html": [
       "<div>\n",
       "<style scoped>\n",
       "    .dataframe tbody tr th:only-of-type {\n",
       "        vertical-align: middle;\n",
       "    }\n",
       "\n",
       "    .dataframe tbody tr th {\n",
       "        vertical-align: top;\n",
       "    }\n",
       "\n",
       "    .dataframe thead th {\n",
       "        text-align: right;\n",
       "    }\n",
       "</style>\n",
       "<table border=\"1\" class=\"dataframe\">\n",
       "  <thead>\n",
       "    <tr style=\"text-align: right;\">\n",
       "      <th></th>\n",
       "      <th>Teams</th>\n",
       "      <th>Left</th>\n",
       "      <th>Middle</th>\n",
       "      <th>Right</th>\n",
       "    </tr>\n",
       "  </thead>\n",
       "  <tbody>\n",
       "    <tr>\n",
       "      <th>0</th>\n",
       "      <td>Barcelona</td>\n",
       "      <td>21%</td>\n",
       "      <td>62%</td>\n",
       "      <td>16%</td>\n",
       "    </tr>\n",
       "    <tr>\n",
       "      <th>1</th>\n",
       "      <td>Getafe</td>\n",
       "      <td>21%</td>\n",
       "      <td>64%</td>\n",
       "      <td>15%</td>\n",
       "    </tr>\n",
       "  </tbody>\n",
       "</table>\n",
       "</div>"
      ],
      "text/plain": [
       "       Teams Left Middle Right\n",
       "0  Barcelona  21%    62%   16%\n",
       "1     Getafe  21%    64%   15%"
      ]
     },
     "execution_count": 343,
     "metadata": {},
     "output_type": "execute_result"
    }
   ],
   "source": [
    "df12=pd.DataFrame(Against,columns=cols)\n",
    "df12.head(2)"
   ]
  },
  {
   "cell_type": "code",
   "execution_count": 345,
   "id": "28b23260-6a2e-4177-b51b-974bce621306",
   "metadata": {},
   "outputs": [],
   "source": [
    "df12.to_csv('LaLiga2023-24/Attempts_Sides_Against.csv',index=False)"
   ]
  },
  {
   "cell_type": "code",
   "execution_count": 347,
   "id": "c0e6aeef-9053-45e2-b016-9d33c8451130",
   "metadata": {},
   "outputs": [
    {
     "name": "stdout",
     "output_type": "stream",
     "text": [
      "['Girona', '14%', '55%', '31%']\n",
      "['Barcelona', '11%', '59%', '31%']\n",
      "['Real Sociedad', '10%', '49%', '41%']\n",
      "['Athletic Club', '9%', '65%', '26%']\n",
      "['Mallorca', '8%', '61%', '31%']\n",
      "['Deportivo Alaves', '8%', '56%', '36%']\n",
      "['Atletico Madrid', '8%', '65%', '27%']\n",
      "['Sevilla', '8%', '58%', '34%']\n",
      "['Celta Vigo', '8%', '57%', '35%']\n",
      "['Real Madrid', '7%', '57%', '36%']\n",
      "['Getafe', '7%', '54%', '39%']\n",
      "['Cadiz', '7%', '53%', '40%']\n",
      "['Villarreal', '7%', '67%', '26%']\n",
      "['Almeria', '7%', '51%', '41%']\n",
      "['Granada', '7%', '61%', '33%']\n",
      "['Real Betis', '6%', '61%', '33%']\n",
      "['Valencia', '6%', '55%', '38%']\n",
      "['Osasuna', '6%', '59%', '35%']\n",
      "['Rayo Vallecano', '6%', '47%', '47%']\n",
      "['Las Palmas', '6%', '47%', '47%']\n"
     ]
    }
   ],
   "source": [
    "Attempts_Zones_table=content.find_element(By.ID, 'stage-attempt-zones')\n",
    "Attempts_Zones_rows=Attempts_Zones_table.find_elements(By.TAG_NAME, 'tr')\n",
    "\n",
    "cols=['Teams','6yards','18yards','Outsidethebox']\n",
    "attempt_zones_for=[]\n",
    "for j in range(1,21):\n",
    "    row_cells=Attempts_Zones_rows[j].find_elements(By.TAG_NAME,'td')\n",
    "    attempt_zones_for.append([row_cells[1].text,row_cells[2].text,row_cells[3].text,row_cells[4].text])\n",
    "\n",
    "for i in range(0,20):\n",
    "    print(attempt_zones_for[i])"
   ]
  },
  {
   "cell_type": "code",
   "execution_count": 349,
   "id": "e55e73fd-64ae-4678-bb11-0f44de8ef492",
   "metadata": {},
   "outputs": [
    {
     "data": {
      "text/html": [
       "<div>\n",
       "<style scoped>\n",
       "    .dataframe tbody tr th:only-of-type {\n",
       "        vertical-align: middle;\n",
       "    }\n",
       "\n",
       "    .dataframe tbody tr th {\n",
       "        vertical-align: top;\n",
       "    }\n",
       "\n",
       "    .dataframe thead th {\n",
       "        text-align: right;\n",
       "    }\n",
       "</style>\n",
       "<table border=\"1\" class=\"dataframe\">\n",
       "  <thead>\n",
       "    <tr style=\"text-align: right;\">\n",
       "      <th></th>\n",
       "      <th>Teams</th>\n",
       "      <th>6yards</th>\n",
       "      <th>18yards</th>\n",
       "      <th>Outsidethebox</th>\n",
       "    </tr>\n",
       "  </thead>\n",
       "  <tbody>\n",
       "    <tr>\n",
       "      <th>0</th>\n",
       "      <td>Girona</td>\n",
       "      <td>14%</td>\n",
       "      <td>55%</td>\n",
       "      <td>31%</td>\n",
       "    </tr>\n",
       "    <tr>\n",
       "      <th>1</th>\n",
       "      <td>Barcelona</td>\n",
       "      <td>11%</td>\n",
       "      <td>59%</td>\n",
       "      <td>31%</td>\n",
       "    </tr>\n",
       "  </tbody>\n",
       "</table>\n",
       "</div>"
      ],
      "text/plain": [
       "       Teams 6yards 18yards Outsidethebox\n",
       "0     Girona    14%     55%           31%\n",
       "1  Barcelona    11%     59%           31%"
      ]
     },
     "execution_count": 349,
     "metadata": {},
     "output_type": "execute_result"
    }
   ],
   "source": [
    "df13=pd.DataFrame(attempt_zones_for,columns=cols)\n",
    "df13.head(2)"
   ]
  },
  {
   "cell_type": "code",
   "execution_count": 351,
   "id": "904e136e-43a7-4fa0-9c6a-9b572a4b9466",
   "metadata": {},
   "outputs": [],
   "source": [
    "df13.to_csv('LaLiga2023-24/Shot_Zones_For.csv',index=False)"
   ]
  },
  {
   "cell_type": "code",
   "execution_count": 353,
   "id": "9b604679-7e9e-4437-ae49-7dea0a66a7cf",
   "metadata": {},
   "outputs": [
    {
     "name": "stdout",
     "output_type": "stream",
     "text": [
      "['Osasuna', '11%', '58%', '31%']\n",
      "['Granada', '10%', '55%', '36%']\n",
      "['Valencia', '9%', '56%', '34%']\n",
      "['Atletico Madrid', '9%', '52%', '39%']\n",
      "['Sevilla', '9%', '56%', '35%']\n",
      "['Almeria', '9%', '58%', '32%']\n",
      "['Real Betis', '8%', '54%', '38%']\n",
      "['Real Sociedad', '8%', '56%', '36%']\n",
      "['Getafe', '8%', '59%', '33%']\n",
      "['Celta Vigo', '8%', '64%', '29%']\n",
      "['Girona', '8%', '57%', '35%']\n",
      "['Villarreal', '8%', '57%', '35%']\n",
      "['Las Palmas', '8%', '63%', '30%']\n",
      "['Athletic Club', '7%', '55%', '38%']\n",
      "['Deportivo Alaves', '7%', '60%', '33%']\n",
      "['Barcelona', '7%', '59%', '33%']\n",
      "['Cadiz', '7%', '54%', '39%']\n",
      "['Real Madrid', '6%', '56%', '38%']\n",
      "['Rayo Vallecano', '6%', '60%', '33%']\n",
      "['Mallorca', '4%', '50%', '46%']\n"
     ]
    }
   ],
   "source": [
    "Attempts_Zones_table=content.find_element(By.ID, 'stage-attempt-zones')\n",
    "Attempts_Zones_rows=Attempts_Zones_table.find_elements(By.TAG_NAME, 'tr')\n",
    "\n",
    "attempt_zones_against=[]\n",
    "\n",
    "for j in range(1,21):\n",
    "    row_cells=Attempts_Zones_rows[j].find_elements(By.TAG_NAME,'td')\n",
    "    attempt_zones_against.append([row_cells[1].text,row_cells[2].text,row_cells[3].text,row_cells[4].text])\n",
    "    \n",
    "\n",
    "for i in range(0,20):\n",
    "    print(attempt_zones_against[i])"
   ]
  },
  {
   "cell_type": "code",
   "execution_count": 355,
   "id": "c8d64f7d-2739-4d8b-9695-b254fa53e7f9",
   "metadata": {},
   "outputs": [
    {
     "data": {
      "text/html": [
       "<div>\n",
       "<style scoped>\n",
       "    .dataframe tbody tr th:only-of-type {\n",
       "        vertical-align: middle;\n",
       "    }\n",
       "\n",
       "    .dataframe tbody tr th {\n",
       "        vertical-align: top;\n",
       "    }\n",
       "\n",
       "    .dataframe thead th {\n",
       "        text-align: right;\n",
       "    }\n",
       "</style>\n",
       "<table border=\"1\" class=\"dataframe\">\n",
       "  <thead>\n",
       "    <tr style=\"text-align: right;\">\n",
       "      <th></th>\n",
       "      <th>Teams</th>\n",
       "      <th>6yards</th>\n",
       "      <th>18yards</th>\n",
       "      <th>Outsidethebox</th>\n",
       "    </tr>\n",
       "  </thead>\n",
       "  <tbody>\n",
       "    <tr>\n",
       "      <th>0</th>\n",
       "      <td>Osasuna</td>\n",
       "      <td>11%</td>\n",
       "      <td>58%</td>\n",
       "      <td>31%</td>\n",
       "    </tr>\n",
       "    <tr>\n",
       "      <th>1</th>\n",
       "      <td>Granada</td>\n",
       "      <td>10%</td>\n",
       "      <td>55%</td>\n",
       "      <td>36%</td>\n",
       "    </tr>\n",
       "  </tbody>\n",
       "</table>\n",
       "</div>"
      ],
      "text/plain": [
       "     Teams 6yards 18yards Outsidethebox\n",
       "0  Osasuna    11%     58%           31%\n",
       "1  Granada    10%     55%           36%"
      ]
     },
     "execution_count": 355,
     "metadata": {},
     "output_type": "execute_result"
    }
   ],
   "source": [
    "df14=pd.DataFrame(attempt_zones_against,columns=cols)\n",
    "df14.head(2)"
   ]
  },
  {
   "cell_type": "code",
   "execution_count": 357,
   "id": "8a85f669-093c-4ccf-af27-e748c3b1f3f5",
   "metadata": {},
   "outputs": [],
   "source": [
    "df14.to_csv('LaLiga2023-24/Shot_Zones_Against.csv',index=False)"
   ]
  },
  {
   "cell_type": "code",
   "execution_count": 359,
   "id": "e1e5dc3c-e731-4bd8-8ed4-048477472d42",
   "metadata": {},
   "outputs": [
    {
     "name": "stdout",
     "output_type": "stream",
     "text": [
      "['Villarreal', '32%', '41%', '27%']\n",
      "['Granada', '31%', '43%', '26%']\n",
      "['Girona', '31%', '43%', '27%']\n",
      "['Almeria', '31%', '45%', '24%']\n",
      "['Cadiz', '30%', '43%', '28%']\n",
      "['Mallorca', '29%', '46%', '26%']\n",
      "['Deportivo Alaves', '29%', '43%', '29%']\n",
      "['Valencia', '29%', '44%', '27%']\n",
      "['Atletico Madrid', '29%', '44%', '26%']\n",
      "['Las Palmas', '29%', '46%', '25%']\n",
      "['Real Betis', '28%', '44%', '29%']\n",
      "['Sevilla', '28%', '42%', '29%']\n",
      "['Rayo Vallecano', '28%', '43%', '28%']\n",
      "['Celta Vigo', '28%', '45%', '27%']\n",
      "['Osasuna', '26%', '44%', '30%']\n",
      "['Real Madrid', '25%', '43%', '31%']\n",
      "['Real Sociedad', '25%', '45%', '30%']\n",
      "['Barcelona', '25%', '44%', '31%']\n",
      "['Getafe', '24%', '44%', '31%']\n",
      "['Athletic Club', '23%', '43%', '33%']\n"
     ]
    }
   ],
   "source": [
    "Touch_Zones_table=content.find_element(By.ID, 'stage-touch-zones')\n",
    "Touch_Zones_rows=Touch_Zones_table.find_elements(By.TAG_NAME, 'tr')\n",
    "Touches=[]\n",
    "cols=['Teams','Own_Third','Middle_Third','Final_Third']\n",
    "\n",
    "for j in range(1,21):\n",
    "    row_cells=Touch_Zones_rows[j].find_elements(By.TAG_NAME,'td')\n",
    "    Teams.append(row_cells[1].text)\n",
    "    Own_Third.append(row_cells[2].text)\n",
    "    Middle_Third.append(row_cells[3].text)\n",
    "    Final_Third.append(row_cells[4].text)\n",
    "    Touches.append([row_cells[1].text,row_cells[2].text,row_cells[3].text,row_cells[4].text])\n",
    "\n",
    "for i in range(0,20):\n",
    "    print(Touches[i])"
   ]
  },
  {
   "cell_type": "code",
   "execution_count": 361,
   "id": "623eb1e8-260c-438a-8199-c9242c5375c7",
   "metadata": {},
   "outputs": [
    {
     "data": {
      "text/html": [
       "<div>\n",
       "<style scoped>\n",
       "    .dataframe tbody tr th:only-of-type {\n",
       "        vertical-align: middle;\n",
       "    }\n",
       "\n",
       "    .dataframe tbody tr th {\n",
       "        vertical-align: top;\n",
       "    }\n",
       "\n",
       "    .dataframe thead th {\n",
       "        text-align: right;\n",
       "    }\n",
       "</style>\n",
       "<table border=\"1\" class=\"dataframe\">\n",
       "  <thead>\n",
       "    <tr style=\"text-align: right;\">\n",
       "      <th></th>\n",
       "      <th>Teams</th>\n",
       "      <th>Own_Third</th>\n",
       "      <th>Middle_Third</th>\n",
       "      <th>Final_Third</th>\n",
       "    </tr>\n",
       "  </thead>\n",
       "  <tbody>\n",
       "    <tr>\n",
       "      <th>0</th>\n",
       "      <td>Villarreal</td>\n",
       "      <td>32%</td>\n",
       "      <td>41%</td>\n",
       "      <td>27%</td>\n",
       "    </tr>\n",
       "    <tr>\n",
       "      <th>1</th>\n",
       "      <td>Granada</td>\n",
       "      <td>31%</td>\n",
       "      <td>43%</td>\n",
       "      <td>26%</td>\n",
       "    </tr>\n",
       "  </tbody>\n",
       "</table>\n",
       "</div>"
      ],
      "text/plain": [
       "        Teams Own_Third Middle_Third Final_Third\n",
       "0  Villarreal       32%          41%         27%\n",
       "1     Granada       31%          43%         26%"
      ]
     },
     "execution_count": 361,
     "metadata": {},
     "output_type": "execute_result"
    }
   ],
   "source": [
    "df15=pd.DataFrame(Touches,columns=cols)\n",
    "df15.head(2)"
   ]
  },
  {
   "cell_type": "code",
   "execution_count": 363,
   "id": "76da43e6-3b4d-4ac1-b264-1228673fbc45",
   "metadata": {},
   "outputs": [],
   "source": [
    "df15.to_csv('LaLiga2023-24/Touches_part_of_ground.csv',index=False)"
   ]
  },
  {
   "cell_type": "code",
   "execution_count": null,
   "id": "a6ed2dda-ee54-41f4-ad6b-eb9e72112d0b",
   "metadata": {},
   "outputs": [],
   "source": []
  }
 ],
 "metadata": {
  "kernelspec": {
   "display_name": "Python 3 (ipykernel)",
   "language": "python",
   "name": "python3"
  },
  "language_info": {
   "codemirror_mode": {
    "name": "ipython",
    "version": 3
   },
   "file_extension": ".py",
   "mimetype": "text/x-python",
   "name": "python",
   "nbconvert_exporter": "python",
   "pygments_lexer": "ipython3",
   "version": "3.12.4"
  }
 },
 "nbformat": 4,
 "nbformat_minor": 5
}
